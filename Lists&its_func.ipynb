{
  "nbformat": 4,
  "nbformat_minor": 0,
  "metadata": {
    "colab": {
      "name": "Lists&its func.ipynb",
      "provenance": [],
      "collapsed_sections": []
    },
    "kernelspec": {
      "name": "python3",
      "display_name": "Python 3"
    },
    "language_info": {
      "name": "python"
    }
  },
  "cells": [
    {
      "cell_type": "code",
      "source": [
        "choco=[\"mars\",\"bounty\",\"sneakers\",\"twill\",\"kitkat\"]\n",
        "\n",
        "for items in choco:\n",
        "  print(\"items\")"
      ],
      "metadata": {
        "colab": {
          "base_uri": "https://localhost:8080/"
        },
        "id": "j4cSdRQBg-D7",
        "outputId": "cca59bcd-c685-4afa-d93d-ef72f482b120"
      },
      "execution_count": 13,
      "outputs": [
        {
          "output_type": "stream",
          "name": "stdout",
          "text": [
            "items\n",
            "items\n",
            "items\n",
            "items\n",
            "items\n"
          ]
        }
      ]
    },
    {
      "cell_type": "code",
      "source": [
        "fruit_basket = [\"apple\", 'banana', 'orange', 'mango', 'kiwi', 'grapes', 'sapota']\n",
        "empty_basket=[]\n",
        "\n",
        "for items in fruit_basket:\n",
        "  if len(items) ==6:\n",
        "    empty_basket.append(items)\n",
        "    \n",
        "  else :\n",
        "    pass\n",
        "\n",
        "print(empty_basket)"
      ],
      "metadata": {
        "colab": {
          "base_uri": "https://localhost:8080/"
        },
        "id": "JfHWmLVowApF",
        "outputId": "fffb307d-c384-4e18-f9b9-c72b86651997"
      },
      "execution_count": 26,
      "outputs": [
        {
          "output_type": "stream",
          "name": "stdout",
          "text": [
            "['banana', 'orange', 'grapes', 'sapota']\n"
          ]
        }
      ]
    },
    {
      "cell_type": "code",
      "source": [
        "empty_basket"
      ],
      "metadata": {
        "colab": {
          "base_uri": "https://localhost:8080/"
        },
        "id": "2AJfoMGb6yDa",
        "outputId": "162ed9b0-f111-4c8e-9543-78a80f4f09c1"
      },
      "execution_count": 25,
      "outputs": [
        {
          "output_type": "execute_result",
          "data": {
            "text/plain": [
              "['banana', 'orange', 'grapes', 'sapota']"
            ]
          },
          "metadata": {},
          "execution_count": 25
        }
      ]
    },
    {
      "cell_type": "code",
      "source": [
        "fruit_basket = [\"apple\", 'banana', 'orange', 'mango', 'kiwi', 'grapes', 'sapota']\n"
      ],
      "metadata": {
        "id": "t-nERJj_8drO"
      },
      "execution_count": 27,
      "outputs": []
    },
    {
      "cell_type": "code",
      "source": [
        "fruit_basket[-3:]"
      ],
      "metadata": {
        "colab": {
          "base_uri": "https://localhost:8080/"
        },
        "id": "IH9Oivp88vkI",
        "outputId": "883786b0-2a3d-4252-f1bf-f234d79d40f7"
      },
      "execution_count": 36,
      "outputs": [
        {
          "output_type": "execute_result",
          "data": {
            "text/plain": [
              "['kiwi', 'grapes', 'sapota']"
            ]
          },
          "metadata": {},
          "execution_count": 36
        }
      ]
    },
    {
      "cell_type": "code",
      "source": [
        ""
      ],
      "metadata": {
        "id": "r9mjSh-29DjI"
      },
      "execution_count": null,
      "outputs": []
    }
  ]
}